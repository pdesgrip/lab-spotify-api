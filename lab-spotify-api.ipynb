{
 "cells": [
  {
   "cell_type": "code",
   "execution_count": null,
   "id": "4f64917e",
   "metadata": {},
   "outputs": [],
   "source": [
    "# import required libs\n",
    "\n",
    "import numpy as np\n",
    "import pandas as pd\n",
    "import sys\n",
    "sys.path.insert(1, 'config.py')\n",
    "from config import *\n",
    "import spotipy\n",
    "import json\n",
    "from spotipy.oauth2 import SpotifyClientCredentials\n",
    "from time import sleep"
   ]
  },
  {
   "cell_type": "code",
   "execution_count": null,
   "id": "3dfa6f84",
   "metadata": {},
   "outputs": [],
   "source": [
    "# Initialize SpotiPy with user credentials\n",
    "sp = spotipy.Spotify(auth_manager=SpotifyClientCredentials(client_id=\"c66d5a293cea48a2b218269ce954e9b5\", client_secret=\"99c7012918c74c9dbafa4accd8f21d5b\"))\n"
   ]
  },
  {
   "cell_type": "code",
   "execution_count": null,
   "id": "a6e054cd",
   "metadata": {
    "scrolled": true
   },
   "outputs": [],
   "source": [
    "# read the csvs into dataframes\n",
    "\n",
    "hot_100 = pd.read_csv(\"hot_100.csv\")\n",
    "not_hot = pd.read_csv(\"not_hot_100.csv\")\n",
    "\n",
    "\n",
    "display(hot_100.head())\n",
    "display(not_hot.head())"
   ]
  },
  {
   "cell_type": "code",
   "execution_count": null,
   "id": "8e85cae7",
   "metadata": {},
   "outputs": [],
   "source": [
    "# check that the duplicates have been deleted\n",
    "print(not_hot.shape)"
   ]
  },
  {
   "cell_type": "code",
   "execution_count": null,
   "id": "27834e75",
   "metadata": {
    "scrolled": true
   },
   "outputs": [],
   "source": [
    "#drop cols apart from Song and Artist\n",
    "\n",
    "not_hot = not_hot[['Song', 'Artist']]\n",
    "display(not_hot.head())"
   ]
  },
  {
   "cell_type": "code",
   "execution_count": null,
   "id": "e103f2ea",
   "metadata": {},
   "outputs": [],
   "source": [
    "# check if the seach on Spotify works\n",
    "\n",
    "song = sp.search(q=\"tracks: Distortion Sleep artist: Soilwork\", limit=1) \n",
    "song['tracks']['items'][0]['id']"
   ]
  },
  {
   "cell_type": "code",
   "execution_count": null,
   "id": "ec8a6b94",
   "metadata": {},
   "outputs": [],
   "source": [
    "# function to search for songs\n",
    "\n",
    "def search_song(title, artist, limit=5):\n",
    "    query = \"tracks: \"+title+\" artist: \"+artist\n",
    "    try:\n",
    "        result = sp.search(query, limit=limit)\n",
    "        song_id = result['tracks']['items'][0]['id']\n",
    "        return song_id\n",
    "    except:\n",
    "        return \"not found\"\n",
    "\n"
   ]
  },
  {
   "cell_type": "code",
   "execution_count": null,
   "id": "c253f122",
   "metadata": {},
   "outputs": [],
   "source": [
    "# use the function to return a song ID\n",
    "search_song(\"Paint The Town Red\", \"Doja Cat\")"
   ]
  },
  {
   "cell_type": "code",
   "execution_count": null,
   "id": "4c1af305",
   "metadata": {
    "scrolled": true
   },
   "outputs": [],
   "source": [
    "\n"
   ]
  },
  {
   "cell_type": "code",
   "execution_count": null,
   "id": "b5517b1f",
   "metadata": {},
   "outputs": [],
   "source": [
    "# add a new column 'Spotify_ID' to the hot_100 DataFrame\n",
    "hot_100['Spotify_ID'] = hot_100.apply(lambda row: search_song(row['Song'], row['Artist']), axis=1)\n",
    "\n",
    "# filter out rows with \"not found\" as Spotify_ID\n",
    "hot_100 = hot_100[hot_100['Spotify_ID'] != \"not found\"]\n",
    "\n",
    "# reset the index after filtering\n",
    "hot_100.reset_index(drop=True, inplace=True)\n",
    "display(hot_100)"
   ]
  },
  {
   "cell_type": "code",
   "execution_count": null,
   "id": "c545a3c0",
   "metadata": {},
   "outputs": [],
   "source": []
  },
  {
   "cell_type": "code",
   "execution_count": null,
   "id": "b51b7d62",
   "metadata": {},
   "outputs": [],
   "source": [
    "\n"
   ]
  },
  {
   "cell_type": "code",
   "execution_count": null,
   "id": "80935074",
   "metadata": {},
   "outputs": [],
   "source": [
    "# add a new column 'Spotify_ID' to the not_hot dataframe\n",
    "not_hot['Spotify_ID'] = not_hot.apply(lambda row: search_song(row['Song'], row['Artist']), axis=1)\n",
    "\n",
    "# filter out rows with \"not found\" as Spotify_ID\n",
    "not_hot = not_hot[not_hot['Spotify_ID'] != \"not found\"]\n",
    "\n",
    "# reset the index after filtering\n",
    "not_hot.reset_index(drop=True, inplace=True)\n",
    "display(not_hot)"
   ]
  },
  {
   "cell_type": "code",
   "execution_count": null,
   "id": "51a3c188",
   "metadata": {},
   "outputs": [],
   "source": [
    "display(not_hot)"
   ]
  },
  {
   "cell_type": "code",
   "execution_count": null,
   "id": "9442f751",
   "metadata": {},
   "outputs": [],
   "source": []
  },
  {
   "cell_type": "code",
   "execution_count": null,
   "id": "99373b0e",
   "metadata": {},
   "outputs": [],
   "source": [
    "def get_audio_features(list_of_song_ids):\n",
    "  \n",
    "    \"\"\"Collects audio features for a list of song IDs.\n",
    "\n",
    "    Input:\n",
    "    list_of_song_ids: A list of song IDs.\n",
    "\n",
    "    Returns:\n",
    "    pandas DataFrame containing the audio features for the IDs.\n",
    "    \"\"\"\n",
    "    \n",
    "    # split the list of song IDs into chunks of 50 to avoid hitting the rate limit.\n",
    "    \n",
    "    chunks = [list_of_song_ids[i:i + 50] for i in range(0, len(list_of_song_ids), 50)]\n",
    "\n",
    "    # get audio features\n",
    "    \n",
    "    all_features = []\n",
    "    for chunk in chunks:\n",
    "        features_chunk = sp.audio_features(chunk)\n",
    "        if features_chunk is not None:  # check if the result is not None.\n",
    "            valid_features = [f for f in features_chunk if f is not None]\n",
    "            all_features.extend(valid_features)\n",
    "        else:\n",
    "            print(\"Failed to fetch features for chunk:\", chunk)\n",
    "\n",
    "    # convert the list of dictionaries to df\n",
    "    \n",
    "    df_audio_features = pd.DataFrame(all_features)\n",
    "    return df_audio_features"
   ]
  },
  {
   "cell_type": "code",
   "execution_count": null,
   "id": "bdd8a6a7",
   "metadata": {},
   "outputs": [],
   "source": [
    "# get audio features for the hot songs\n",
    "\n",
    "df_hot_audio_features = get_audio_features(hot_100['Spotify_ID'].tolist())\n",
    "\n",
    "# merge frames\n",
    "\n",
    "hot_100 = pd.merge(hot_100, df_hot_audio_features, left_on='Spotify_ID', right_on='id', how='left')\n",
    "\n",
    "#drop duplicates\n",
    "\n",
    "hot_100.drop_duplicates(subset=['Spotify_ID'], inplace=True)\n",
    "\n",
    "# reindex\n",
    "hot_100.reset_index(drop=True, inplace=True)\n",
    "\n",
    "display(hot_100)\n"
   ]
  },
  {
   "cell_type": "code",
   "execution_count": null,
   "id": "76aaa2a7",
   "metadata": {
    "scrolled": false
   },
   "outputs": [],
   "source": [
    "# get audio features for the not hot songs\n",
    "\n",
    "df_not_hot_audio_features = get_audio_features(not_hot['Spotify_ID'].tolist())\n",
    "\n",
    "# merge frames\n",
    "\n",
    "not_hot = pd.merge(not_hot, df_not_hot_audio_features, left_on='Spotify_ID', right_on='id', how='left')\n",
    "\n",
    "# drop duplicates\n",
    "not_hot.drop_duplicates(subset=['Spotify_ID'], inplace=True)\n",
    "\n",
    "# reindex\n",
    "not_hot.reset_index(drop=True, inplace=True)\n",
    "\n",
    "display(not_hot)"
   ]
  },
  {
   "cell_type": "code",
   "execution_count": null,
   "id": "b21a128b",
   "metadata": {},
   "outputs": [],
   "source": [
    "# copy and save the dataframes with features as CSV\n",
    "\n",
    "hot_100_featured = hot_100.copy()\n",
    "\n",
    "hot_100_featured.to_csv('hot100.csv', index=False)\n",
    "\n",
    "not_hot_featured = not_hot.copy()\n",
    "\n",
    "not_hot_featured.to_csv('hot100.csv', index=False)"
   ]
  },
  {
   "cell_type": "code",
   "execution_count": null,
   "id": "18e5454a",
   "metadata": {},
   "outputs": [],
   "source": []
  }
 ],
 "metadata": {
  "kernelspec": {
   "display_name": "Python 3 (ipykernel)",
   "language": "python",
   "name": "python3"
  },
  "language_info": {
   "codemirror_mode": {
    "name": "ipython",
    "version": 3
   },
   "file_extension": ".py",
   "mimetype": "text/x-python",
   "name": "python",
   "nbconvert_exporter": "python",
   "pygments_lexer": "ipython3",
   "version": "3.11.4"
  }
 },
 "nbformat": 4,
 "nbformat_minor": 5
}
